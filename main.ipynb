{
 "cells": [
  {
   "cell_type": "code",
   "execution_count": 59,
   "metadata": {},
   "outputs": [
    {
     "data": {
      "image/png": "[encoded data removed]",
      "text/plain": [
       "<Figure size 432x288 with 1 Axes>"
      ]
     },
     "metadata": {},
     "output_type": "display_data"
    },
    {
     "name": "stdout",
     "output_type": "stream",
     "text": [
      "\n",
      "Cost With initial Values of theta\n",
      "\n",
      "8142.575187745788\n",
      "[0.02198818 1.86963019]\n",
      "133.1957465872562\n",
      "125.94158145129374\n"
     ]
    }
   ],
   "source": [
    "%matplotlib inline\n",
    "import pandas as pd\n",
    "import csv\n",
    "import numpy as np\n",
    "import seaborn as sns\n",
    "import pandas\n",
    "import matplotlib.pyplot as plt\n",
    "\n",
    "def ComputeCost(x,y,theta):\n",
    "    import numpy as np\n",
    "    m = len(y)\n",
    "    J = np.sum(np.square(x.dot(theta) - y)) / (2.0 * m)\n",
    "    return J\n",
    "\n",
    "def gradientDescent(X,y,theta,alpha,num_iters):\n",
    "    m = len(y)\n",
    "    J_history = np.zeros(num_iters)\n",
    "    for i in range(num_iters):\n",
    "        theta -= alpha / m * ((X.dot(theta) - y).T.dot(X))\n",
    "        J_history[i] = ComputeCost(X, y, theta)\n",
    "    return theta, J_history\n",
    "\n",
    "if __name__ == '__main__':\n",
    "    #data = np.loadtxt('data2.txt',delimiter=',')\n",
    "    #data=data.values\n",
    "    #data = np.array(list(csv.reader(open(\"data2.csv\", \"rb\"), delimiter=\",\"))).astype(\"float\")\n",
    "    data = pd.read_csv(\"data.csv\")\n",
    "    data=data.values\n",
    "    X=data[:,1]\n",
    "    y=data[:,2]\n",
    "    m=len(y)\n",
    "    X_GRAPH=X\n",
    "    X = np.hstack((np.ones((m, 1)), X.reshape(m, 1)))\n",
    "    theta = np.zeros(2)\n",
    "    iterations = 1700\n",
    "    alpha = 0.00005\n",
    "    #DATA VISUALIZATION \n",
    "\n",
    "    plt.plot(X_GRAPH,y,'ro')\n",
    "    plt.xlabel(\"Height\")\n",
    "    plt.ylabel(\"Weight\")\n",
    "    plt.show()\n",
    "\n",
    "    J = ComputeCost(X,y,theta)\n",
    "    print(\"\\nCost With initial Values of theta\\n\")\n",
    "    print(J)\n",
    "    (theta,J_hist)= gradientDescent(X,y,theta,alpha,iterations)\n",
    "    print(theta)\n",
    "    predict1 = np.array([1, 71.23]).dot(theta)\n",
    "    print(predict1)\n",
    "    predict2 = np.array([1, 67.35]).dot(theta)\n",
    "    print(predict2)"
   ]
  },
  {
   "cell_type": "code",
   "execution_count": null,
   "metadata": {},
   "outputs": [],
   "source": []
  }
 ],
 "metadata": {
  "kernelspec": {
   "display_name": "Python 3",
   "language": "python",
   "name": "python3"
  },
  "language_info": {
   "codemirror_mode": {
    "name": "ipython",
    "version": 3
   },
   "file_extension": ".py",
   "mimetype": "text/x-python",
   "name": "python",
   "nbconvert_exporter": "python",
   "pygments_lexer": "ipython3",
   "version": "3.6.5"
  }
 },
 "nbformat": 4,
 "nbformat_minor": 2
}
